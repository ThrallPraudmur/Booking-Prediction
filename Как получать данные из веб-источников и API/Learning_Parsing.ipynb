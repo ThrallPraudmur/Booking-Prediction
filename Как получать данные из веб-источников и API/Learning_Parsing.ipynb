{
  "nbformat": 4,
  "nbformat_minor": 0,
  "metadata": {
    "colab": {
      "provenance": [],
      "authorship_tag": "ABX9TyPWD9Y9bUpohSk+9C1N2zbC",
      "include_colab_link": true
    },
    "kernelspec": {
      "name": "python3",
      "display_name": "Python 3"
    },
    "language_info": {
      "name": "python"
    }
  },
  "cells": [
    {
      "cell_type": "markdown",
      "metadata": {
        "id": "view-in-github",
        "colab_type": "text"
      },
      "source": [
        "<a href=\"https://colab.research.google.com/github/ThrallPraudmur/Booking-Prediction/blob/main/%D0%9A%D0%B0%D0%BA%20%D0%BF%D0%BE%D0%BB%D1%83%D1%87%D0%B0%D1%82%D1%8C%20%D0%B4%D0%B0%D0%BD%D0%BD%D1%8B%D0%B5%20%D0%B8%D0%B7%20%D0%B2%D0%B5%D0%B1-%D0%B8%D1%81%D1%82%D0%BE%D1%87%D0%BD%D0%B8%D0%BA%D0%BE%D0%B2%20%D0%B8%20API/Learning_Parsing.ipynb\" target=\"_parent\"><img src=\"https://colab.research.google.com/assets/colab-badge.svg\" alt=\"Open In Colab\"/></a>"
      ]
    },
    {
      "cell_type": "markdown",
      "source": [
        "### Библиотека REQUESTS\n",
        "\n",
        "Attempt | #1 | #2 | #3 | #4 | #5 | #6 | #7 | #8 | #9 | #10 | #11\n",
        "--- | --- | --- | --- |--- |--- |--- |--- |--- |--- |--- |---\n",
        "Seconds | 301 | 283 | 290 | 286 | 289 | 285 | 287 | 287 | 272 | 276 | 269"
      ],
      "metadata": {
        "id": "HrF7jWWnDvt1"
      }
    },
    {
      "cell_type": "code",
      "execution_count": null,
      "metadata": {
        "colab": {
          "base_uri": "https://localhost:8080/"
        },
        "id": "le79mPLa08lI",
        "outputId": "d4c7b956-92ca-482e-f0cb-55ab8be5fd01"
      },
      "outputs": [
        {
          "output_type": "execute_result",
          "data": {
            "text/plain": [
              "200"
            ]
          },
          "metadata": {},
          "execution_count": 15
        }
      ],
      "source": [
        "import requests\n",
        "response = requests.get('https://www.google.com/')\n",
        "response.status_code"
      ]
    },
    {
      "cell_type": "code",
      "source": [
        "response.content #СОДЕРЖИМОЕ СТРАНИЦЫ\n",
        "response.text #HTML CODE, МОЖНО СОХРАНИТЬ КАК HTML ФАЙЛ\n",
        "response.headers"
      ],
      "metadata": {
        "colab": {
          "base_uri": "https://localhost:8080/"
        },
        "id": "CFfLDNgd1Ce9",
        "outputId": "7bd778c5-7df6-48d7-bc7f-058d7ad46813"
      },
      "execution_count": null,
      "outputs": [
        {
          "output_type": "execute_result",
          "data": {
            "text/plain": [
              "{'Date': 'Wed, 15 Nov 2023 07:19:16 GMT', 'Expires': '-1', 'Cache-Control': 'private, max-age=0', 'Content-Type': 'text/html; charset=ISO-8859-1', 'Content-Security-Policy-Report-Only': \"object-src 'none';base-uri 'self';script-src 'nonce-IHxArvP9sZAwV-TS3dPCDQ' 'strict-dynamic' 'report-sample' 'unsafe-eval' 'unsafe-inline' https: http:;report-uri https://csp.withgoogle.com/csp/gws/other-hp\", 'P3P': 'CP=\"This is not a P3P policy! See g.co/p3phelp for more info.\"', 'Content-Encoding': 'gzip', 'Server': 'gws', 'X-XSS-Protection': '0', 'X-Frame-Options': 'SAMEORIGIN', 'Set-Cookie': '1P_JAR=2023-11-15-07; expires=Fri, 15-Dec-2023 07:19:16 GMT; path=/; domain=.google.com; Secure, AEC=Ackid1SWgPW1qWIMQrctVfmNAZrc1znjG2DoK5Gf7VZXtbtuE-1NjLbRTQ; expires=Mon, 13-May-2024 07:19:16 GMT; path=/; domain=.google.com; Secure; HttpOnly; SameSite=lax, NID=511=ujr9q4fcNZxh1476OD05_7J6unxlnA6vbiVHjtM8RjMsXvM_7DtDf9ZJtzZ_5lfVjePGLb9CImNHEDpG7Z5BP5K-RuvGD5p-4KdzbArf8sV1iM5LH1lod8ILdIyu0Fk9akN9JJnwP5XnKsO80siBhjiy1IVD6NAD7E6E-gi4zgg; expires=Thu, 16-May-2024 07:19:16 GMT; path=/; domain=.google.com; HttpOnly', 'Transfer-Encoding': 'chunked'}"
            ]
          },
          "metadata": {},
          "execution_count": 15
        }
      ]
    },
    {
      "cell_type": "code",
      "source": [
        "params = {'q': 'funny cats'}\n",
        "response = requests.get('https://www.google.com/search', params = params)\n",
        "response"
      ],
      "metadata": {
        "colab": {
          "base_uri": "https://localhost:8080/"
        },
        "id": "EWHP9BRr3iUF",
        "outputId": "25c68e0d-8f92-4fd1-dbfe-cfc18e22aab5"
      },
      "execution_count": null,
      "outputs": [
        {
          "output_type": "execute_result",
          "data": {
            "text/plain": [
              "<Response [200]>"
            ]
          },
          "metadata": {},
          "execution_count": 8
        }
      ]
    },
    {
      "cell_type": "code",
      "source": [
        "api_token = '6f741eaf0da872d92b48f8e92df7b943'\n",
        "api_call = 'https://api.openweathermap.org/data/2.5/weather'\n",
        "\n",
        "#ЗАДАЁМ ПОД МАСКУ q={city name}&appid={API key}\n",
        "params = {'q': 'Лондон', 'appid': api_token}\n",
        "response = requests.get(api_call, params)\n",
        "response.status_code #200\n",
        "response"
      ],
      "metadata": {
        "id": "NgeotrI08oyY",
        "colab": {
          "base_uri": "https://localhost:8080/"
        },
        "outputId": "30701091-c8c9-494f-db69-39e04138ef70"
      },
      "execution_count": null,
      "outputs": [
        {
          "output_type": "execute_result",
          "data": {
            "text/plain": [
              "<Response [200]>"
            ]
          },
          "metadata": {},
          "execution_count": 3
        }
      ]
    },
    {
      "cell_type": "code",
      "source": [
        "if response: #вернётся True, если был корректный ответ"
      ],
      "metadata": {
        "id": "ihakpnHb3GND",
        "colab": {
          "base_uri": "https://localhost:8080/"
        },
        "outputId": "34f2e33c-3a0f-49b1-9856-7ef1a0785b66"
      },
      "execution_count": null,
      "outputs": [
        {
          "output_type": "execute_result",
          "data": {
            "text/plain": [
              "200"
            ]
          },
          "metadata": {},
          "execution_count": 4
        }
      ]
    },
    {
      "cell_type": "code",
      "source": [
        "response.text"
      ],
      "metadata": {
        "id": "NtG3LbLh5hEI",
        "colab": {
          "base_uri": "https://localhost:8080/",
          "height": 70
        },
        "outputId": "a6dbd821-dda0-4142-d4a2-a069b4e9afcd"
      },
      "execution_count": null,
      "outputs": [
        {
          "output_type": "execute_result",
          "data": {
            "text/plain": [
              "'{\"coord\":{\"lon\":-0.1257,\"lat\":51.5085},\"weather\":[{\"id\":804,\"main\":\"Clouds\",\"description\":\"overcast clouds\",\"icon\":\"04d\"}],\"base\":\"stations\",\"main\":{\"temp\":278.73,\"feels_like\":276.68,\"temp_min\":276.64,\"temp_max\":280.29,\"pressure\":1010,\"humidity\":92},\"visibility\":9000,\"wind\":{\"speed\":2.57,\"deg\":100},\"clouds\":{\"all\":100},\"dt\":1700119250,\"sys\":{\"type\":2,\"id\":2075535,\"country\":\"GB\",\"sunrise\":1700119178,\"sunset\":1700151061},\"timezone\":0,\"id\":2643743,\"name\":\"London\",\"cod\":200}'"
            ],
            "application/vnd.google.colaboratory.intrinsic+json": {
              "type": "string"
            }
          },
          "metadata": {},
          "execution_count": 6
        }
      ]
    },
    {
      "cell_type": "code",
      "source": [
        "response.json() #возвращаем в виде словаря"
      ],
      "metadata": {
        "colab": {
          "base_uri": "https://localhost:8080/"
        },
        "id": "m3COPlmuBIKw",
        "outputId": "d75b1381-0c27-4d48-abdc-87f109f26b57"
      },
      "execution_count": null,
      "outputs": [
        {
          "output_type": "execute_result",
          "data": {
            "text/plain": [
              "{'coord': {'lon': -0.1257, 'lat': 51.5085},\n",
              " 'weather': [{'id': 804,\n",
              "   'main': 'Clouds',\n",
              "   'description': 'overcast clouds',\n",
              "   'icon': '04d'}],\n",
              " 'base': 'stations',\n",
              " 'main': {'temp': 278.73,\n",
              "  'feels_like': 276.68,\n",
              "  'temp_min': 276.64,\n",
              "  'temp_max': 280.29,\n",
              "  'pressure': 1010,\n",
              "  'humidity': 92},\n",
              " 'visibility': 9000,\n",
              " 'wind': {'speed': 2.57, 'deg': 100},\n",
              " 'clouds': {'all': 100},\n",
              " 'dt': 1700119250,\n",
              " 'sys': {'type': 2,\n",
              "  'id': 2075535,\n",
              "  'country': 'GB',\n",
              "  'sunrise': 1700119178,\n",
              "  'sunset': 1700151061},\n",
              " 'timezone': 0,\n",
              " 'id': 2643743,\n",
              " 'name': 'London',\n",
              " 'cod': 200}"
            ]
          },
          "metadata": {},
          "execution_count": 7
        }
      ]
    },
    {
      "cell_type": "code",
      "source": [
        "params = {'q': 'Лондон', 'appid': api_token, 'units': 'metric'}\n",
        "\n",
        "response = requests.get(api_call, params)\n",
        "response.json()"
      ],
      "metadata": {
        "id": "r60_VBNKBIHU",
        "colab": {
          "base_uri": "https://localhost:8080/"
        },
        "outputId": "f35c6100-60bf-48a5-a828-dc94b74770df"
      },
      "execution_count": null,
      "outputs": [
        {
          "output_type": "execute_result",
          "data": {
            "text/plain": [
              "{'coord': {'lon': -0.1257, 'lat': 51.5085},\n",
              " 'weather': [{'id': 802,\n",
              "   'main': 'Clouds',\n",
              "   'description': 'scattered clouds',\n",
              "   'icon': '03d'}],\n",
              " 'base': 'stations',\n",
              " 'main': {'temp': 6.75,\n",
              "  'feels_like': 4.92,\n",
              "  'temp_min': 5.72,\n",
              "  'temp_max': 7.78,\n",
              "  'pressure': 1009,\n",
              "  'humidity': 90},\n",
              " 'visibility': 10000,\n",
              " 'wind': {'speed': 2.57, 'deg': 50},\n",
              " 'clouds': {'all': 40},\n",
              " 'dt': 1700130450,\n",
              " 'sys': {'type': 2,\n",
              "  'id': 2075535,\n",
              "  'country': 'GB',\n",
              "  'sunrise': 1700119178,\n",
              "  'sunset': 1700151061},\n",
              " 'timezone': 0,\n",
              " 'id': 2643743,\n",
              " 'name': 'London',\n",
              " 'cod': 200}"
            ]
          },
          "metadata": {},
          "execution_count": 4
        }
      ]
    },
    {
      "cell_type": "code",
      "source": [
        "response.json()['weather'][0]['main']"
      ],
      "metadata": {
        "id": "qlaYAWuqBIC8",
        "colab": {
          "base_uri": "https://localhost:8080/",
          "height": 35
        },
        "outputId": "4296337a-673f-436f-c395-782a961547ca"
      },
      "execution_count": null,
      "outputs": [
        {
          "output_type": "execute_result",
          "data": {
            "text/plain": [
              "'Clouds'"
            ],
            "application/vnd.google.colaboratory.intrinsic+json": {
              "type": "string"
            }
          },
          "metadata": {},
          "execution_count": 5
        }
      ]
    },
    {
      "cell_type": "code",
      "source": [
        "response.headers #content-type = application/json -> ответ поступает в виде словаря json"
      ],
      "metadata": {
        "id": "SHMJ7mAiBH36",
        "colab": {
          "base_uri": "https://localhost:8080/"
        },
        "outputId": "b913b3f0-9481-4044-cea4-8884455850a8"
      },
      "execution_count": null,
      "outputs": [
        {
          "output_type": "execute_result",
          "data": {
            "text/plain": [
              "{'Server': 'openresty', 'Date': 'Thu, 16 Nov 2023 10:30:08 GMT', 'Content-Type': 'application/json; charset=utf-8', 'Content-Length': '467', 'Connection': 'keep-alive', 'X-Cache-Key': '/data/2.5/weather?q=%d0%9b%d0%be%d0%bd%d0%b4%d0%be%d0%bd&units=metric', 'Access-Control-Allow-Origin': '*', 'Access-Control-Allow-Credentials': 'true', 'Access-Control-Allow-Methods': 'GET, POST'}"
            ]
          },
          "metadata": {},
          "execution_count": 6
        }
      ]
    },
    {
      "cell_type": "code",
      "source": [
        "response = requests.get('https://httpbin.org/headers')\n",
        "response.json()['headers']['User-Agent'] #python-requests/2.31.0\n",
        "\n",
        "#САЙТ ВИДИТ, ЧТО ЗАПРОС ИДЁТ НЕ ОТ БРАУЗЕРА И ПОЛЬЗОВАТЕЛЯ И ЗАЧАСТУЮ БЛОКИРУЮТ\n",
        "headers = {\n",
        "    \"Accept\": \"application/json\",\n",
        "    \"Accept-Language\": \"ru-RU,ru;q=0.9,en-US;q=0.8,en;q=0.7\",\n",
        "    \"Host\": \"httpbin.org\",\n",
        "    \"Referer\": \"https://httpbin.org/\",\n",
        "    \"Sec-Ch-Ua\": \"\\\"Google Chrome\\\";v=\\\"117\\\", \\\"Not;A=Brand\\\";v=\\\"8\\\", \\\"Chromium\\\";v=\\\"117\\\"\",\n",
        "    \"Sec-Ch-Ua-Mobile\": \"?0\",\n",
        "    \"Sec-Ch-Ua-Platform\": \"\\\"Windows\\\"\",\n",
        "    \"Sec-Fetch-Dest\": \"empty\",\n",
        "    \"Sec-Fetch-Mode\": \"cors\",\n",
        "    \"Sec-Fetch-Site\": \"same-origin\",\n",
        "    \"User-Agent\": \"Mozilla/5.0 (Windows NT 10.0; Win64; x64) AppleWebKit/537.36 (KHTML, like Gecko) Chrome/117.0.0.0 Safari/537.36\", #этой строки будет достаточно\n",
        "    \"X-Amzn-Trace-Id\": \"Root=1-6555f198-71e7d39e51f128144aa69ccf\"\n",
        "  }\n",
        "\n",
        "#ЗАМАСКИРУЕМ СЕБЯ\n",
        "response = requests.get('https://httpbin.org/headers', headers = headers)\n",
        "response.json()['headers']['User-Agent'] #тестируем запросы на этом сайте"
      ],
      "metadata": {
        "colab": {
          "base_uri": "https://localhost:8080/",
          "height": 35
        },
        "id": "iIDYvSqkr4Lu",
        "outputId": "3359324b-1193-420b-9b8f-3b5cc2aa02f7"
      },
      "execution_count": null,
      "outputs": [
        {
          "output_type": "execute_result",
          "data": {
            "text/plain": [
              "'Mozilla/5.0 (Windows NT 10.0; Win64; x64) AppleWebKit/537.36 (KHTML, like Gecko) Chrome/117.0.0.0 Safari/537.36'"
            ],
            "application/vnd.google.colaboratory.intrinsic+json": {
              "type": "string"
            }
          },
          "metadata": {},
          "execution_count": 3
        }
      ]
    },
    {
      "cell_type": "code",
      "source": [
        "data = {'custname': 'Олень', 'custtel': 'Северный'}\n",
        "response = requests.post('https://httpbin.org/post', headers = headers, data = data)\n",
        "response.json()"
      ],
      "metadata": {
        "id": "z-zjgZYtr4U7",
        "colab": {
          "base_uri": "https://localhost:8080/"
        },
        "outputId": "cdf45725-64e3-4a64-a4ee-973eeeae6d64"
      },
      "execution_count": null,
      "outputs": [
        {
          "output_type": "execute_result",
          "data": {
            "text/plain": [
              "{'args': {},\n",
              " 'data': '',\n",
              " 'files': {},\n",
              " 'form': {'custname': 'Олень', 'custtel': 'Северный'},\n",
              " 'headers': {'Accept': 'application/json',\n",
              "  'Accept-Encoding': 'gzip, deflate',\n",
              "  'Accept-Language': 'ru-RU,ru;q=0.9,en-US;q=0.8,en;q=0.7',\n",
              "  'Content-Length': '96',\n",
              "  'Content-Type': 'application/x-www-form-urlencoded',\n",
              "  'Host': 'httpbin.org',\n",
              "  'Referer': 'https://httpbin.org/',\n",
              "  'Sec-Ch-Ua': '\"Google Chrome\";v=\"117\", \"Not;A=Brand\";v=\"8\", \"Chromium\";v=\"117\"',\n",
              "  'Sec-Ch-Ua-Mobile': '?0',\n",
              "  'Sec-Ch-Ua-Platform': '\"Windows\"',\n",
              "  'Sec-Fetch-Dest': 'empty',\n",
              "  'Sec-Fetch-Mode': 'cors',\n",
              "  'Sec-Fetch-Site': 'same-origin',\n",
              "  'User-Agent': 'Mozilla/5.0 (Windows NT 10.0; Win64; x64) AppleWebKit/537.36 (KHTML, like Gecko) Chrome/117.0.0.0 Safari/537.36',\n",
              "  'X-Amzn-Trace-Id': 'Self=1-65573a48-12620b270069260f6d38cc95;Root=1-6555f198-71e7d39e51f128144aa69ccf'},\n",
              " 'json': None,\n",
              " 'origin': '34.86.12.233',\n",
              " 'url': 'https://httpbin.org/post'}"
            ]
          },
          "metadata": {},
          "execution_count": 5
        }
      ]
    },
    {
      "cell_type": "code",
      "source": [
        "variable = requests.Session()"
      ],
      "metadata": {
        "id": "6EzvmzQfr4Ys"
      },
      "execution_count": null,
      "outputs": []
    },
    {
      "cell_type": "code",
      "source": [
        "pip install beautifulsoup4"
      ],
      "metadata": {
        "colab": {
          "base_uri": "https://localhost:8080/"
        },
        "id": "WrS7ii-cy2ix",
        "outputId": "4613690f-fa51-4ab5-debd-c35147884bc7"
      },
      "execution_count": null,
      "outputs": [
        {
          "output_type": "stream",
          "name": "stdout",
          "text": [
            "Requirement already satisfied: beautifulsoup4 in /usr/local/lib/python3.10/dist-packages (4.11.2)\n",
            "Requirement already satisfied: soupsieve>1.2 in /usr/local/lib/python3.10/dist-packages (from beautifulsoup4) (2.5)\n"
          ]
        }
      ]
    },
    {
      "cell_type": "code",
      "source": [
        "pip install lxml"
      ],
      "metadata": {
        "colab": {
          "base_uri": "https://localhost:8080/"
        },
        "id": "3wdpkH0Py2f3",
        "outputId": "17807b0f-b472-4613-f6b6-32db5028bea8"
      },
      "execution_count": null,
      "outputs": [
        {
          "output_type": "stream",
          "name": "stdout",
          "text": [
            "Requirement already satisfied: lxml in /usr/local/lib/python3.10/dist-packages (4.9.3)\n"
          ]
        }
      ]
    },
    {
      "cell_type": "code",
      "source": [
        "import requests\n",
        "from bs4 import BeautifulSoup"
      ],
      "metadata": {
        "id": "mwMkcKvIy2cy"
      },
      "execution_count": null,
      "outputs": []
    },
    {
      "cell_type": "code",
      "source": [
        "url = 'https://scrapingclub.com/exercise/list_basic/&page=1'\n",
        "response = requests.get(url)\n",
        "response"
      ],
      "metadata": {
        "colab": {
          "base_uri": "https://localhost:8080/"
        },
        "id": "VXMZ8DTMy2Sv",
        "outputId": "ce3fdbc8-ac73-4fc7-ba4c-90285f46e10f"
      },
      "execution_count": null,
      "outputs": [
        {
          "output_type": "execute_result",
          "data": {
            "text/plain": [
              "<Response [200]>"
            ]
          },
          "metadata": {},
          "execution_count": 19
        }
      ]
    },
    {
      "cell_type": "code",
      "source": [
        "#ПРИВЕДЁМ ФАЙЛ К ЧИТАЕМОМУ ВИДУ\n",
        "soup = BeautifulSoup(response.text, 'lxml') # + АНАЛИЗАТОР HTML КОДА\n",
        "data = soup.find('div', class_ = 'w-full rounded border') # ИЩЕМ ПЕРВЫЙ ВСТРЕЧНЫЙ ТЕГ DIV В КЛАССЕ W-FULL ROUNDED BORDER\n",
        "name = data.find('h4') #ИЩЕМ ПЕРВЫЙ ВСТРЕЧНЫЙ ТЕГ H4 В DATA\n",
        "name"
      ],
      "metadata": {
        "colab": {
          "base_uri": "https://localhost:8080/"
        },
        "id": "BzEHnZ3x67KM",
        "outputId": "baa1ea25-8572-4b75-a9e9-e5ead94606b8"
      },
      "execution_count": null,
      "outputs": [
        {
          "output_type": "execute_result",
          "data": {
            "text/plain": [
              "<h4>\n",
              "<a href=\"/exercise/list_basic_detail/90008-E/\">Short Dress</a>\n",
              "</h4>"
            ]
          },
          "metadata": {},
          "execution_count": 45
        }
      ]
    },
    {
      "cell_type": "code",
      "source": [
        "name.text #УБИРАЕМ ОБРАЙМЛЕНИЕ ТЕГАМИ"
      ],
      "metadata": {
        "colab": {
          "base_uri": "https://localhost:8080/",
          "height": 35
        },
        "id": "vpfnJhaV8fbk",
        "outputId": "63aa69eb-20a5-4aee-aee4-a202a6fe9598"
      },
      "execution_count": null,
      "outputs": [
        {
          "output_type": "execute_result",
          "data": {
            "text/plain": [
              "'\\nShort Dress\\n'"
            ],
            "application/vnd.google.colaboratory.intrinsic+json": {
              "type": "string"
            }
          },
          "metadata": {},
          "execution_count": 46
        }
      ]
    },
    {
      "cell_type": "code",
      "source": [
        "name.text.replace('\\n', '')"
      ],
      "metadata": {
        "colab": {
          "base_uri": "https://localhost:8080/",
          "height": 35
        },
        "id": "1Us38HLl8fZN",
        "outputId": "90913d33-3306-4054-bd40-36cd2097836e"
      },
      "execution_count": null,
      "outputs": [
        {
          "output_type": "execute_result",
          "data": {
            "text/plain": [
              "'Short Dress'"
            ],
            "application/vnd.google.colaboratory.intrinsic+json": {
              "type": "string"
            }
          },
          "metadata": {},
          "execution_count": 47
        }
      ]
    },
    {
      "cell_type": "code",
      "source": [
        "name = data.find('h4').text.replace('\\n', '')\n",
        "name"
      ],
      "metadata": {
        "colab": {
          "base_uri": "https://localhost:8080/",
          "height": 35
        },
        "id": "GVK7Po2IDJjg",
        "outputId": "939ff915-369d-4eee-cd34-c92856f50afc"
      },
      "execution_count": null,
      "outputs": [
        {
          "output_type": "execute_result",
          "data": {
            "text/plain": [
              "'Short Dress'"
            ],
            "application/vnd.google.colaboratory.intrinsic+json": {
              "type": "string"
            }
          },
          "metadata": {},
          "execution_count": 64
        }
      ]
    },
    {
      "cell_type": "code",
      "source": [
        "#ЦЕНА В ТЕГЕ H5\n",
        "price = data.find('h5').text\n",
        "price"
      ],
      "metadata": {
        "colab": {
          "base_uri": "https://localhost:8080/",
          "height": 35
        },
        "id": "qmdhRIAU8fVm",
        "outputId": "ab641498-ec1f-4826-f511-65b8673b7630"
      },
      "execution_count": null,
      "outputs": [
        {
          "output_type": "execute_result",
          "data": {
            "text/plain": [
              "'$24.99'"
            ],
            "application/vnd.google.colaboratory.intrinsic+json": {
              "type": "string"
            }
          },
          "metadata": {},
          "execution_count": 50
        }
      ]
    },
    {
      "cell_type": "code",
      "source": [
        "price"
      ],
      "metadata": {
        "colab": {
          "base_uri": "https://localhost:8080/",
          "height": 35
        },
        "id": "VCS6zyX98fTT",
        "outputId": "52312afa-4e14-4c72-8428-d169f292c77e"
      },
      "execution_count": null,
      "outputs": [
        {
          "output_type": "execute_result",
          "data": {
            "text/plain": [
              "'$24.99'"
            ],
            "application/vnd.google.colaboratory.intrinsic+json": {
              "type": "string"
            }
          },
          "metadata": {},
          "execution_count": 49
        }
      ]
    },
    {
      "cell_type": "code",
      "source": [
        "data"
      ],
      "metadata": {
        "colab": {
          "base_uri": "https://localhost:8080/"
        },
        "id": "Gzv11mb6A4pb",
        "outputId": "03470fbc-31a3-4a14-e571-357c458a2955"
      },
      "execution_count": null,
      "outputs": [
        {
          "output_type": "execute_result",
          "data": {
            "text/plain": [
              "<div class=\"w-full rounded border\">\n",
              "<a href=\"/exercise/list_basic_detail/90008-E/\">\n",
              "<img alt=\"\" class=\"card-img-top img-fluid\" src=\"/static/img/90008-E.jpg\"/>\n",
              "</a>\n",
              "<div class=\"p-4\">\n",
              "<h4>\n",
              "<a href=\"/exercise/list_basic_detail/90008-E/\">Short Dress</a>\n",
              "</h4>\n",
              "<h5>$24.99</h5>\n",
              "</div>\n",
              "</div>"
            ]
          },
          "metadata": {},
          "execution_count": 51
        }
      ]
    },
    {
      "cell_type": "code",
      "source": [
        "#ССЫЛКА НАХОДИТСЯ В КЛАССЕ CARD-IMG-TOP IMG-FLUID\n",
        "url_img = data.find('img', class_ = 'card-img-top img-fluid').get('src') #передаём атрибут в get\n",
        "url_img\n",
        "\n",
        "#ДОПОЛНИМ ССЫЛКУ, ТАК КАК КАРТИНКИ ХРАНЯТСЯ В ПАПКЕ STATIC"
      ],
      "metadata": {
        "colab": {
          "base_uri": "https://localhost:8080/",
          "height": 35
        },
        "id": "I50B6Yxj8fQT",
        "outputId": "65a9dc18-a386-4995-8c14-880a863be62c"
      },
      "execution_count": null,
      "outputs": [
        {
          "output_type": "execute_result",
          "data": {
            "text/plain": [
              "'/static/img/90008-E.jpg'"
            ],
            "application/vnd.google.colaboratory.intrinsic+json": {
              "type": "string"
            }
          },
          "metadata": {},
          "execution_count": 53
        }
      ]
    },
    {
      "cell_type": "code",
      "source": [
        "name"
      ],
      "metadata": {
        "colab": {
          "base_uri": "https://localhost:8080/"
        },
        "id": "QlUh3TpMDE9o",
        "outputId": "716af831-e0a2-45aa-84ca-be6c20ff9d1b"
      },
      "execution_count": null,
      "outputs": [
        {
          "output_type": "execute_result",
          "data": {
            "text/plain": [
              "<h4>\n",
              "<a href=\"/exercise/list_basic_detail/90008-E/\">Short Dress</a>\n",
              "</h4>"
            ]
          },
          "metadata": {},
          "execution_count": 63
        }
      ]
    },
    {
      "cell_type": "code",
      "source": [
        "#СОБЕРЁМ ДАННЫЕ СО ВСЕХ КАРТОЧЕК\n",
        "print(name + '\\n' + price + '\\n' + url_img)"
      ],
      "metadata": {
        "colab": {
          "base_uri": "https://localhost:8080/"
        },
        "id": "e9TJzhkuCsFH",
        "outputId": "1b0015e9-9e21-4147-a36f-857615780144"
      },
      "execution_count": null,
      "outputs": [
        {
          "output_type": "stream",
          "name": "stdout",
          "text": [
            "Short Dress\n",
            "$24.99\n",
            "/static/img/90008-E.jpg\n"
          ]
        }
      ]
    },
    {
      "cell_type": "code",
      "source": [
        "#МЕТОД FIND_All ПОЗВОЛЯЕТ СОБРАТЬ ВСЕ ТЕГИ DIV, В КОТОРЫХ ПРОПИСАН КАКОЙ-ТО КЛАСС\n",
        "data = soup.find_all('div', class_ = 'w-full rounded border')\n",
        "len(data) #это список из 10 карточек"
      ],
      "metadata": {
        "colab": {
          "base_uri": "https://localhost:8080/"
        },
        "id": "jPL8XziYCr-m",
        "outputId": "df8c039d-ac18-4dbf-9882-5972a1c4c7bf"
      },
      "execution_count": null,
      "outputs": [
        {
          "output_type": "execute_result",
          "data": {
            "text/plain": [
              "10"
            ]
          },
          "metadata": {},
          "execution_count": 67
        }
      ]
    },
    {
      "cell_type": "code",
      "source": [
        "#РЕАЛИЗУЕМ ЦИКЛ FOR\n",
        "for elem in data:\n",
        "  name = elem.find('h4').text.replace('\\n', '')\n",
        "  price = elem.find('h5').text\n",
        "  url_img = elem.find('img', class_ = 'card-img-top img-fluid').get('src')\n",
        "  print(name + '\\n' + price + '\\n' + url_img)"
      ],
      "metadata": {
        "colab": {
          "base_uri": "https://localhost:8080/"
        },
        "id": "NsprsHbQCr7F",
        "outputId": "b6645a05-4a9c-4c36-e42f-4ac348c4bcbe"
      },
      "execution_count": null,
      "outputs": [
        {
          "output_type": "stream",
          "name": "stdout",
          "text": [
            "Short Dress\n",
            "$24.99\n",
            "/static/img/90008-E.jpg\n",
            "Patterned Slacks\n",
            "$29.99\n",
            "/static/img/96436-A.jpg\n",
            "Short Chiffon Dress\n",
            "$49.99\n",
            "/static/img/93926-B.jpg\n",
            "Off-the-shoulder Dress\n",
            "$59.99\n",
            "/static/img/90882-B.jpg\n",
            "V-neck Top\n",
            "$24.99\n",
            "/static/img/93756-C.jpg\n",
            "Short Chiffon Dress\n",
            "$49.99\n",
            "/static/img/93926-C.jpg\n",
            "V-neck Top\n",
            "$24.99\n",
            "/static/img/93756-B.jpg\n",
            "V-neck Top\n",
            "$24.99\n",
            "/static/img/93756-D.jpg\n",
            "Short Lace Dress\n",
            "$59.99\n",
            "/static/img/96643-A.jpg\n",
            "Fitted Dress\n",
            "$34.99\n",
            "/static/img/94766-A.jpg\n"
          ]
        }
      ]
    },
    {
      "cell_type": "code",
      "source": [
        "list(range(1, 8))"
      ],
      "metadata": {
        "colab": {
          "base_uri": "https://localhost:8080/"
        },
        "id": "u3xByqK-FkpJ",
        "outputId": "46a75cc6-83b8-4a7a-8ab2-8a212768e71f"
      },
      "execution_count": null,
      "outputs": [
        {
          "output_type": "execute_result",
          "data": {
            "text/plain": [
              "[1, 2, 3, 4, 5, 6, 7]"
            ]
          },
          "metadata": {},
          "execution_count": 71
        }
      ]
    },
    {
      "cell_type": "code",
      "source": [
        "#ВСЕГО 7 СТРАНИЦ С ТОВАРОМ\n",
        "for count in range(1, 8):\n",
        "  url = f'https://scrapingclub.com/exercise/list_basic/&page={count}'\n",
        "  response = requests.get(url)\n",
        "  soup = BeautifulSoup(response.text, 'lxml')\n",
        "  data = soup.find_all('div', class_ = 'w-full rounded border')\n",
        "\n",
        "  for elem in data:\n",
        "    name = elem.find('h4').text.replace('\\n', '')\n",
        "    price = elem.find('h5').text\n",
        "    url_img = elem.find('img', class_ = 'card-img-top img-fluid').get('src')\n",
        "    print(name + '\\n' + price + '\\n' + url_img)"
      ],
      "metadata": {
        "id": "CDxd4-Ly8fCr"
      },
      "execution_count": null,
      "outputs": []
    },
    {
      "cell_type": "code",
      "source": [
        "from time import sleep"
      ],
      "metadata": {
        "id": "5fmtGH7uGaeP"
      },
      "execution_count": null,
      "outputs": []
    },
    {
      "cell_type": "code",
      "source": [
        "headers = {\n",
        "    \"User-Agent\": \"Mozilla/5.0 (Windows NT 10.0; Win64; x64) AppleWebKit/537.36 (KHTML, like Gecko) Chrome/117.0.0.0 Safari/537.36\" #этой строки будет достаточно\n",
        "  }"
      ],
      "metadata": {
        "id": "eTN2sbAlHRMC"
      },
      "execution_count": null,
      "outputs": []
    },
    {
      "cell_type": "code",
      "source": [
        "for count in range(1, 8):\n",
        "  sleep(3) #ждём 3 секунды\n",
        "  url = f'https://scrapingclub.com/exercise/list_basic/&page={count}'\n",
        "  response = requests.get(url, headers = headers)\n",
        "  soup = BeautifulSoup(response.text, 'lxml')\n",
        "  data = soup.find_all('div', class_ = 'w-full rounded border')\n",
        "\n",
        "  for elem in data:\n",
        "    name = elem.find('h4').text.replace('\\n', '')\n",
        "    price = elem.find('h5').text\n",
        "    url_img = elem.find('img', class_ = 'card-img-top img-fluid').get('src')\n",
        "    print(name + '\\n' + price + '\\n' + url_img)"
      ],
      "metadata": {
        "id": "tyn8PfmeGabu"
      },
      "execution_count": null,
      "outputs": []
    },
    {
      "cell_type": "code",
      "source": [
        "list_cards_url = []\n",
        "\n",
        "#ОТКРЫВАЕМ НА КАЖДОЙ ИЗ СЕМИ СТРАНИЦ КАРТОЧКУ И ЗАПОЛНЯЕМ\n",
        "for count in range(1, 8):\n",
        "  sleep(3) #ждём 3 секунды\n",
        "  url = f'https://scrapingclub.com/exercise/list_basic/&page={count}'\n",
        "  response = requests.get(url, headers = headers)\n",
        "  soup = BeautifulSoup(response.text, 'lxml')\n",
        "  data = soup.find_all('div', class_ = 'w-full rounded border')\n",
        "\n",
        "  for elem in data:\n",
        "    card_url = 'https://scrapingclub.com' + elem.find('a').get('href') #ссылка указана в теге а в атрибуте href = '/exercise/list_basic_detail/90008-E/'\n",
        "    list_cards_url.append(card_url)\n",
        "\n",
        "#ПОЛУЧИЛИ СПИСОК ИЗ ССЫЛОК КАЖДОЙ КАРТОЧКИ, ВНУТРИ КОТОРЫХ НАХОДИТСЯ БОЛЕЕ ПОДРОБНАЯ ИНФОРМАЦИЯ\n",
        "list_cards_url[0] #проверим работу парсера на одной карточке"
      ],
      "metadata": {
        "colab": {
          "base_uri": "https://localhost:8080/",
          "height": 35
        },
        "id": "Kx_rUbjuKRW4",
        "outputId": "e76fa713-b8d9-461d-e457-52670fb78089"
      },
      "execution_count": null,
      "outputs": [
        {
          "output_type": "execute_result",
          "data": {
            "text/plain": [
              "'https://scrapingclub.com/exercise/list_basic_detail/90008-E/'"
            ],
            "application/vnd.google.colaboratory.intrinsic+json": {
              "type": "string"
            }
          },
          "metadata": {},
          "execution_count": 94
        }
      ]
    },
    {
      "cell_type": "code",
      "source": [
        "response = requests.get(list_cards_url[0], headers = headers)\n",
        "soup = BeautifulSoup(response.text, 'lxml')\n",
        "data = soup.find('div', class_ = 'p-6')\n",
        "data #div, class = p-6: name = h3, class = card-title; price = h4, class = my-4 card-price; card_description = p, class = card-description"
      ],
      "metadata": {
        "colab": {
          "base_uri": "https://localhost:8080/"
        },
        "id": "ho02j5NySkzk",
        "outputId": "eb9a3de2-18ac-4574-e6e4-ef33c3649159"
      },
      "execution_count": null,
      "outputs": [
        {
          "output_type": "execute_result",
          "data": {
            "text/plain": [
              "<div class=\"p-6\">\n",
              "<h3 class=\"card-title\">Short Dress</h3>\n",
              "<h4 class=\"my-4 card-price\">$24.99</h4>\n",
              "<p class=\"card-description\">Short dress in woven fabric. Round neckline and opening at back of neck with a button. Yoke at back with concealed pleats, long sleeves, and narrow cuffs with ties. Side pockets. 100% polyester. Machine wash cold.</p>\n",
              "</div>"
            ]
          },
          "metadata": {},
          "execution_count": 95
        }
      ]
    },
    {
      "cell_type": "code",
      "source": [
        "data.find('h3', class_ = 'card-title').text"
      ],
      "metadata": {
        "colab": {
          "base_uri": "https://localhost:8080/",
          "height": 35
        },
        "id": "XDEo96seZHgN",
        "outputId": "5aa9450a-91ee-4b72-9548-677e509ff6f7"
      },
      "execution_count": null,
      "outputs": [
        {
          "output_type": "execute_result",
          "data": {
            "text/plain": [
              "'Short Dress'"
            ],
            "application/vnd.google.colaboratory.intrinsic+json": {
              "type": "string"
            }
          },
          "metadata": {},
          "execution_count": 99
        }
      ]
    },
    {
      "cell_type": "code",
      "source": [
        "data.find('h4', class_ = 'card-price').text"
      ],
      "metadata": {
        "colab": {
          "base_uri": "https://localhost:8080/",
          "height": 35
        },
        "id": "R5Y52dhwZ3KL",
        "outputId": "f29f56b5-643d-4669-a3ad-6fc8e3944913"
      },
      "execution_count": null,
      "outputs": [
        {
          "output_type": "execute_result",
          "data": {
            "text/plain": [
              "'$24.99'"
            ],
            "application/vnd.google.colaboratory.intrinsic+json": {
              "type": "string"
            }
          },
          "metadata": {},
          "execution_count": 100
        }
      ]
    },
    {
      "cell_type": "code",
      "source": [
        "data.find('p', class_ = 'card-description').text"
      ],
      "metadata": {
        "colab": {
          "base_uri": "https://localhost:8080/",
          "height": 53
        },
        "id": "yjHgEiIeZ3fP",
        "outputId": "81267104-4018-4498-8c8e-85a3d3b9eff2"
      },
      "execution_count": null,
      "outputs": [
        {
          "output_type": "execute_result",
          "data": {
            "text/plain": [
              "'Short dress in woven fabric. Round neckline and opening at back of neck with a button. Yoke at back with concealed pleats, long sleeves, and narrow cuffs with ties. Side pockets. 100% polyester. Machine wash cold.'"
            ],
            "application/vnd.google.colaboratory.intrinsic+json": {
              "type": "string"
            }
          },
          "metadata": {},
          "execution_count": 101
        }
      ]
    },
    {
      "cell_type": "code",
      "source": [
        "%%time\n",
        "import pandas as pd\n",
        "df = pd.DataFrame(columns = ['NAME', 'PRICE', 'DESCRIPTION'])\n",
        "\n",
        "list_cards_url = []\n",
        "\n",
        "#ОТКРЫВАЕМ НА КАЖДОЙ ИЗ СЕМИ СТРАНИЦ КАРТОЧКУ И ЗАПОЛНЯЕМ\n",
        "for count in range(1, 8):\n",
        "  url = f'https://scrapingclub.com/exercise/list_basic/&page={count}'\n",
        "  response = requests.get(url, headers = headers)\n",
        "  soup = BeautifulSoup(response.text, 'lxml')\n",
        "  data = soup.find_all('div', class_ = 'w-full rounded border')\n",
        "\n",
        "  for elem in data:\n",
        "    card_url = 'https://scrapingclub.com' + elem.find('a').get('href') #ссылка указана в теге а в атрибуте href = '/exercise/list_basic_detail/90008-E/'\n",
        "    list_cards_url.append(card_url)\n",
        "\n",
        "for card_url in list_cards_url:\n",
        "  response = requests.get(card_url, headers = headers)\n",
        "  sleep(3)\n",
        "  soup = BeautifulSoup(response.text, 'lxml')\n",
        "  data = soup.find('div', class_ = 'p-6')\n",
        "  df.loc[len(df)] = [data.find('h3', class_ = 'card-title').text, data.find('h4', class_ = 'card-price').text, data.find('p', class_ = 'card-description').text]\n",
        "\n",
        "df"
      ],
      "metadata": {
        "colab": {
          "base_uri": "https://localhost:8080/",
          "height": 458
        },
        "id": "A8vToa12aNbk",
        "outputId": "0302bee8-5b24-4fc3-b7d6-2501687b0f79"
      },
      "execution_count": null,
      "outputs": [
        {
          "output_type": "stream",
          "name": "stdout",
          "text": [
            "CPU times: user 10.4 s, sys: 232 ms, total: 10.6 s\n",
            "Wall time: 4min 8s\n"
          ]
        },
        {
          "output_type": "execute_result",
          "data": {
            "text/plain": [
              "                      NAME   PRICE  \\\n",
              "0              Short Dress  $24.99   \n",
              "1         Patterned Slacks  $29.99   \n",
              "2      Short Chiffon Dress  $49.99   \n",
              "3   Off-the-shoulder Dress  $59.99   \n",
              "4               V-neck Top  $24.99   \n",
              "..                     ...     ...   \n",
              "65     Short Chiffon Dress  $49.99   \n",
              "66              V-neck Top  $24.99   \n",
              "67              V-neck Top  $24.99   \n",
              "68        Short Lace Dress  $59.99   \n",
              "69            Fitted Dress  $34.99   \n",
              "\n",
              "                                          DESCRIPTION  \n",
              "0   Short dress in woven fabric. Round neckline an...  \n",
              "1   Ankle-length slacks in patterned stretch cotto...  \n",
              "2   Short V-neck dress in plumeti chiffon. Gathers...  \n",
              "3   Short, fitted off-the-shoulder dress in stretc...  \n",
              "4   Top in woven fabric with V-neck front and back...  \n",
              "..                                                ...  \n",
              "65  Short V-neck dress in plumeti chiffon. Gathers...  \n",
              "66  Top in woven fabric with V-neck front and back...  \n",
              "67  Top in woven fabric with V-neck front and back...  \n",
              "68  Short, straight-cut dress in lace. Opening at ...  \n",
              "69  Fitted dress in thick jersey with a V-neck, lo...  \n",
              "\n",
              "[70 rows x 3 columns]"
            ],
            "text/html": [
              "\n",
              "  <div id=\"df-e89b48bf-3139-4c2b-b87d-3e0c153621ea\" class=\"colab-df-container\">\n",
              "    <div>\n",
              "<style scoped>\n",
              "    .dataframe tbody tr th:only-of-type {\n",
              "        vertical-align: middle;\n",
              "    }\n",
              "\n",
              "    .dataframe tbody tr th {\n",
              "        vertical-align: top;\n",
              "    }\n",
              "\n",
              "    .dataframe thead th {\n",
              "        text-align: right;\n",
              "    }\n",
              "</style>\n",
              "<table border=\"1\" class=\"dataframe\">\n",
              "  <thead>\n",
              "    <tr style=\"text-align: right;\">\n",
              "      <th></th>\n",
              "      <th>NAME</th>\n",
              "      <th>PRICE</th>\n",
              "      <th>DESCRIPTION</th>\n",
              "    </tr>\n",
              "  </thead>\n",
              "  <tbody>\n",
              "    <tr>\n",
              "      <th>0</th>\n",
              "      <td>Short Dress</td>\n",
              "      <td>$24.99</td>\n",
              "      <td>Short dress in woven fabric. Round neckline an...</td>\n",
              "    </tr>\n",
              "    <tr>\n",
              "      <th>1</th>\n",
              "      <td>Patterned Slacks</td>\n",
              "      <td>$29.99</td>\n",
              "      <td>Ankle-length slacks in patterned stretch cotto...</td>\n",
              "    </tr>\n",
              "    <tr>\n",
              "      <th>2</th>\n",
              "      <td>Short Chiffon Dress</td>\n",
              "      <td>$49.99</td>\n",
              "      <td>Short V-neck dress in plumeti chiffon. Gathers...</td>\n",
              "    </tr>\n",
              "    <tr>\n",
              "      <th>3</th>\n",
              "      <td>Off-the-shoulder Dress</td>\n",
              "      <td>$59.99</td>\n",
              "      <td>Short, fitted off-the-shoulder dress in stretc...</td>\n",
              "    </tr>\n",
              "    <tr>\n",
              "      <th>4</th>\n",
              "      <td>V-neck Top</td>\n",
              "      <td>$24.99</td>\n",
              "      <td>Top in woven fabric with V-neck front and back...</td>\n",
              "    </tr>\n",
              "    <tr>\n",
              "      <th>...</th>\n",
              "      <td>...</td>\n",
              "      <td>...</td>\n",
              "      <td>...</td>\n",
              "    </tr>\n",
              "    <tr>\n",
              "      <th>65</th>\n",
              "      <td>Short Chiffon Dress</td>\n",
              "      <td>$49.99</td>\n",
              "      <td>Short V-neck dress in plumeti chiffon. Gathers...</td>\n",
              "    </tr>\n",
              "    <tr>\n",
              "      <th>66</th>\n",
              "      <td>V-neck Top</td>\n",
              "      <td>$24.99</td>\n",
              "      <td>Top in woven fabric with V-neck front and back...</td>\n",
              "    </tr>\n",
              "    <tr>\n",
              "      <th>67</th>\n",
              "      <td>V-neck Top</td>\n",
              "      <td>$24.99</td>\n",
              "      <td>Top in woven fabric with V-neck front and back...</td>\n",
              "    </tr>\n",
              "    <tr>\n",
              "      <th>68</th>\n",
              "      <td>Short Lace Dress</td>\n",
              "      <td>$59.99</td>\n",
              "      <td>Short, straight-cut dress in lace. Opening at ...</td>\n",
              "    </tr>\n",
              "    <tr>\n",
              "      <th>69</th>\n",
              "      <td>Fitted Dress</td>\n",
              "      <td>$34.99</td>\n",
              "      <td>Fitted dress in thick jersey with a V-neck, lo...</td>\n",
              "    </tr>\n",
              "  </tbody>\n",
              "</table>\n",
              "<p>70 rows × 3 columns</p>\n",
              "</div>\n",
              "    <div class=\"colab-df-buttons\">\n",
              "\n",
              "  <div class=\"colab-df-container\">\n",
              "    <button class=\"colab-df-convert\" onclick=\"convertToInteractive('df-e89b48bf-3139-4c2b-b87d-3e0c153621ea')\"\n",
              "            title=\"Convert this dataframe to an interactive table.\"\n",
              "            style=\"display:none;\">\n",
              "\n",
              "  <svg xmlns=\"http://www.w3.org/2000/svg\" height=\"24px\" viewBox=\"0 -960 960 960\">\n",
              "    <path d=\"M120-120v-720h720v720H120Zm60-500h600v-160H180v160Zm220 220h160v-160H400v160Zm0 220h160v-160H400v160ZM180-400h160v-160H180v160Zm440 0h160v-160H620v160ZM180-180h160v-160H180v160Zm440 0h160v-160H620v160Z\"/>\n",
              "  </svg>\n",
              "    </button>\n",
              "\n",
              "  <style>\n",
              "    .colab-df-container {\n",
              "      display:flex;\n",
              "      gap: 12px;\n",
              "    }\n",
              "\n",
              "    .colab-df-convert {\n",
              "      background-color: #E8F0FE;\n",
              "      border: none;\n",
              "      border-radius: 50%;\n",
              "      cursor: pointer;\n",
              "      display: none;\n",
              "      fill: #1967D2;\n",
              "      height: 32px;\n",
              "      padding: 0 0 0 0;\n",
              "      width: 32px;\n",
              "    }\n",
              "\n",
              "    .colab-df-convert:hover {\n",
              "      background-color: #E2EBFA;\n",
              "      box-shadow: 0px 1px 2px rgba(60, 64, 67, 0.3), 0px 1px 3px 1px rgba(60, 64, 67, 0.15);\n",
              "      fill: #174EA6;\n",
              "    }\n",
              "\n",
              "    .colab-df-buttons div {\n",
              "      margin-bottom: 4px;\n",
              "    }\n",
              "\n",
              "    [theme=dark] .colab-df-convert {\n",
              "      background-color: #3B4455;\n",
              "      fill: #D2E3FC;\n",
              "    }\n",
              "\n",
              "    [theme=dark] .colab-df-convert:hover {\n",
              "      background-color: #434B5C;\n",
              "      box-shadow: 0px 1px 3px 1px rgba(0, 0, 0, 0.15);\n",
              "      filter: drop-shadow(0px 1px 2px rgba(0, 0, 0, 0.3));\n",
              "      fill: #FFFFFF;\n",
              "    }\n",
              "  </style>\n",
              "\n",
              "    <script>\n",
              "      const buttonEl =\n",
              "        document.querySelector('#df-e89b48bf-3139-4c2b-b87d-3e0c153621ea button.colab-df-convert');\n",
              "      buttonEl.style.display =\n",
              "        google.colab.kernel.accessAllowed ? 'block' : 'none';\n",
              "\n",
              "      async function convertToInteractive(key) {\n",
              "        const element = document.querySelector('#df-e89b48bf-3139-4c2b-b87d-3e0c153621ea');\n",
              "        const dataTable =\n",
              "          await google.colab.kernel.invokeFunction('convertToInteractive',\n",
              "                                                    [key], {});\n",
              "        if (!dataTable) return;\n",
              "\n",
              "        const docLinkHtml = 'Like what you see? Visit the ' +\n",
              "          '<a target=\"_blank\" href=https://colab.research.google.com/notebooks/data_table.ipynb>data table notebook</a>'\n",
              "          + ' to learn more about interactive tables.';\n",
              "        element.innerHTML = '';\n",
              "        dataTable['output_type'] = 'display_data';\n",
              "        await google.colab.output.renderOutput(dataTable, element);\n",
              "        const docLink = document.createElement('div');\n",
              "        docLink.innerHTML = docLinkHtml;\n",
              "        element.appendChild(docLink);\n",
              "      }\n",
              "    </script>\n",
              "  </div>\n",
              "\n",
              "\n",
              "<div id=\"df-e1270937-2612-48e4-9e04-daba5e158546\">\n",
              "  <button class=\"colab-df-quickchart\" onclick=\"quickchart('df-e1270937-2612-48e4-9e04-daba5e158546')\"\n",
              "            title=\"Suggest charts\"\n",
              "            style=\"display:none;\">\n",
              "\n",
              "<svg xmlns=\"http://www.w3.org/2000/svg\" height=\"24px\"viewBox=\"0 0 24 24\"\n",
              "     width=\"24px\">\n",
              "    <g>\n",
              "        <path d=\"M19 3H5c-1.1 0-2 .9-2 2v14c0 1.1.9 2 2 2h14c1.1 0 2-.9 2-2V5c0-1.1-.9-2-2-2zM9 17H7v-7h2v7zm4 0h-2V7h2v10zm4 0h-2v-4h2v4z\"/>\n",
              "    </g>\n",
              "</svg>\n",
              "  </button>\n",
              "\n",
              "<style>\n",
              "  .colab-df-quickchart {\n",
              "      --bg-color: #E8F0FE;\n",
              "      --fill-color: #1967D2;\n",
              "      --hover-bg-color: #E2EBFA;\n",
              "      --hover-fill-color: #174EA6;\n",
              "      --disabled-fill-color: #AAA;\n",
              "      --disabled-bg-color: #DDD;\n",
              "  }\n",
              "\n",
              "  [theme=dark] .colab-df-quickchart {\n",
              "      --bg-color: #3B4455;\n",
              "      --fill-color: #D2E3FC;\n",
              "      --hover-bg-color: #434B5C;\n",
              "      --hover-fill-color: #FFFFFF;\n",
              "      --disabled-bg-color: #3B4455;\n",
              "      --disabled-fill-color: #666;\n",
              "  }\n",
              "\n",
              "  .colab-df-quickchart {\n",
              "    background-color: var(--bg-color);\n",
              "    border: none;\n",
              "    border-radius: 50%;\n",
              "    cursor: pointer;\n",
              "    display: none;\n",
              "    fill: var(--fill-color);\n",
              "    height: 32px;\n",
              "    padding: 0;\n",
              "    width: 32px;\n",
              "  }\n",
              "\n",
              "  .colab-df-quickchart:hover {\n",
              "    background-color: var(--hover-bg-color);\n",
              "    box-shadow: 0 1px 2px rgba(60, 64, 67, 0.3), 0 1px 3px 1px rgba(60, 64, 67, 0.15);\n",
              "    fill: var(--button-hover-fill-color);\n",
              "  }\n",
              "\n",
              "  .colab-df-quickchart-complete:disabled,\n",
              "  .colab-df-quickchart-complete:disabled:hover {\n",
              "    background-color: var(--disabled-bg-color);\n",
              "    fill: var(--disabled-fill-color);\n",
              "    box-shadow: none;\n",
              "  }\n",
              "\n",
              "  .colab-df-spinner {\n",
              "    border: 2px solid var(--fill-color);\n",
              "    border-color: transparent;\n",
              "    border-bottom-color: var(--fill-color);\n",
              "    animation:\n",
              "      spin 1s steps(1) infinite;\n",
              "  }\n",
              "\n",
              "  @keyframes spin {\n",
              "    0% {\n",
              "      border-color: transparent;\n",
              "      border-bottom-color: var(--fill-color);\n",
              "      border-left-color: var(--fill-color);\n",
              "    }\n",
              "    20% {\n",
              "      border-color: transparent;\n",
              "      border-left-color: var(--fill-color);\n",
              "      border-top-color: var(--fill-color);\n",
              "    }\n",
              "    30% {\n",
              "      border-color: transparent;\n",
              "      border-left-color: var(--fill-color);\n",
              "      border-top-color: var(--fill-color);\n",
              "      border-right-color: var(--fill-color);\n",
              "    }\n",
              "    40% {\n",
              "      border-color: transparent;\n",
              "      border-right-color: var(--fill-color);\n",
              "      border-top-color: var(--fill-color);\n",
              "    }\n",
              "    60% {\n",
              "      border-color: transparent;\n",
              "      border-right-color: var(--fill-color);\n",
              "    }\n",
              "    80% {\n",
              "      border-color: transparent;\n",
              "      border-right-color: var(--fill-color);\n",
              "      border-bottom-color: var(--fill-color);\n",
              "    }\n",
              "    90% {\n",
              "      border-color: transparent;\n",
              "      border-bottom-color: var(--fill-color);\n",
              "    }\n",
              "  }\n",
              "</style>\n",
              "\n",
              "  <script>\n",
              "    async function quickchart(key) {\n",
              "      const quickchartButtonEl =\n",
              "        document.querySelector('#' + key + ' button');\n",
              "      quickchartButtonEl.disabled = true;  // To prevent multiple clicks.\n",
              "      quickchartButtonEl.classList.add('colab-df-spinner');\n",
              "      try {\n",
              "        const charts = await google.colab.kernel.invokeFunction(\n",
              "            'suggestCharts', [key], {});\n",
              "      } catch (error) {\n",
              "        console.error('Error during call to suggestCharts:', error);\n",
              "      }\n",
              "      quickchartButtonEl.classList.remove('colab-df-spinner');\n",
              "      quickchartButtonEl.classList.add('colab-df-quickchart-complete');\n",
              "    }\n",
              "    (() => {\n",
              "      let quickchartButtonEl =\n",
              "        document.querySelector('#df-e1270937-2612-48e4-9e04-daba5e158546 button');\n",
              "      quickchartButtonEl.style.display =\n",
              "        google.colab.kernel.accessAllowed ? 'block' : 'none';\n",
              "    })();\n",
              "  </script>\n",
              "</div>\n",
              "    </div>\n",
              "  </div>\n"
            ]
          },
          "metadata": {},
          "execution_count": 25
        }
      ]
    },
    {
      "cell_type": "code",
      "source": [
        "len(pd.DataFrame())"
      ],
      "metadata": {
        "colab": {
          "base_uri": "https://localhost:8080/"
        },
        "id": "Kjw-OQMpKqh-",
        "outputId": "44600e66-b992-436d-86c0-3a832906e677"
      },
      "execution_count": null,
      "outputs": [
        {
          "output_type": "execute_result",
          "data": {
            "text/plain": [
              "0"
            ]
          },
          "metadata": {},
          "execution_count": 106
        }
      ]
    },
    {
      "cell_type": "code",
      "source": [
        "%%time\n",
        "%%capture\n",
        "from tqdm.notebook import tqdm #progress bar"
      ],
      "metadata": {
        "id": "vlLQJpAZHZhk"
      },
      "execution_count": null,
      "outputs": []
    },
    {
      "cell_type": "code",
      "source": [
        "%%time\n",
        "import pandas as pd\n",
        "import requests\n",
        "\n",
        "from bs4 import BeautifulSoup\n",
        "from time import sleep\n",
        "\n",
        "#СОЗДАНИЕ ОБЪЕКТА ГЕНЕРАТОР\n",
        "def get_url():\n",
        "  for count in range(1, 8):\n",
        "    sleep(1) #ждём 3 секунды\n",
        "    url = f'https://scrapingclub.com/exercise/list_basic/&page={count}'\n",
        "    response = requests.get(url, headers = headers)\n",
        "    soup = BeautifulSoup(response.text, 'lxml')\n",
        "    data = soup.find_all('div', class_ = 'w-full rounded border')\n",
        "\n",
        "    for elem in data:\n",
        "      card_url = 'https://scrapingclub.com' + elem.find('a').get('href') #ссылка указана в теге а в атрибуте href = '/exercise/list_basic_detail/90008-E/'\n",
        "      yield card_url\n",
        "\n",
        "df = pd.DataFrame(columns = ['NAME', 'PRICE', 'DESCRIPTION'])\n",
        "\n",
        "for card_url in get_url():\n",
        "  response = requests.get(card_url, headers = headers)\n",
        "  sleep(3)\n",
        "  soup = BeautifulSoup(response.text, 'lxml')\n",
        "  data = soup.find('div', class_ = 'p-6')\n",
        "  df.loc[len(df)] = [data.find('h3', class_ = 'card-title').text, data.find('h4', class_ = 'card-price').text, data.find('p', class_ = 'card-description').text]\n",
        "\n",
        "df"
      ],
      "metadata": {
        "id": "bL57YoeMm9bJ",
        "colab": {
          "base_uri": "https://localhost:8080/",
          "height": 458
        },
        "outputId": "f439d479-d838-45ae-f895-30d40f1ae5d2"
      },
      "execution_count": null,
      "outputs": [
        {
          "output_type": "stream",
          "name": "stdout",
          "text": [
            "CPU times: user 10 s, sys: 232 ms, total: 10.3 s\n",
            "Wall time: 3min 53s\n"
          ]
        },
        {
          "output_type": "execute_result",
          "data": {
            "text/plain": [
              "                      NAME   PRICE  \\\n",
              "0              Short Dress  $24.99   \n",
              "1         Patterned Slacks  $29.99   \n",
              "2      Short Chiffon Dress  $49.99   \n",
              "3   Off-the-shoulder Dress  $59.99   \n",
              "4               V-neck Top  $24.99   \n",
              "..                     ...     ...   \n",
              "65     Short Chiffon Dress  $49.99   \n",
              "66              V-neck Top  $24.99   \n",
              "67              V-neck Top  $24.99   \n",
              "68        Short Lace Dress  $59.99   \n",
              "69            Fitted Dress  $34.99   \n",
              "\n",
              "                                          DESCRIPTION  \n",
              "0   Short dress in woven fabric. Round neckline an...  \n",
              "1   Ankle-length slacks in patterned stretch cotto...  \n",
              "2   Short V-neck dress in plumeti chiffon. Gathers...  \n",
              "3   Short, fitted off-the-shoulder dress in stretc...  \n",
              "4   Top in woven fabric with V-neck front and back...  \n",
              "..                                                ...  \n",
              "65  Short V-neck dress in plumeti chiffon. Gathers...  \n",
              "66  Top in woven fabric with V-neck front and back...  \n",
              "67  Top in woven fabric with V-neck front and back...  \n",
              "68  Short, straight-cut dress in lace. Opening at ...  \n",
              "69  Fitted dress in thick jersey with a V-neck, lo...  \n",
              "\n",
              "[70 rows x 3 columns]"
            ],
            "text/html": [
              "\n",
              "  <div id=\"df-b03b30f4-a21a-4e5c-9291-cc85646f4565\" class=\"colab-df-container\">\n",
              "    <div>\n",
              "<style scoped>\n",
              "    .dataframe tbody tr th:only-of-type {\n",
              "        vertical-align: middle;\n",
              "    }\n",
              "\n",
              "    .dataframe tbody tr th {\n",
              "        vertical-align: top;\n",
              "    }\n",
              "\n",
              "    .dataframe thead th {\n",
              "        text-align: right;\n",
              "    }\n",
              "</style>\n",
              "<table border=\"1\" class=\"dataframe\">\n",
              "  <thead>\n",
              "    <tr style=\"text-align: right;\">\n",
              "      <th></th>\n",
              "      <th>NAME</th>\n",
              "      <th>PRICE</th>\n",
              "      <th>DESCRIPTION</th>\n",
              "    </tr>\n",
              "  </thead>\n",
              "  <tbody>\n",
              "    <tr>\n",
              "      <th>0</th>\n",
              "      <td>Short Dress</td>\n",
              "      <td>$24.99</td>\n",
              "      <td>Short dress in woven fabric. Round neckline an...</td>\n",
              "    </tr>\n",
              "    <tr>\n",
              "      <th>1</th>\n",
              "      <td>Patterned Slacks</td>\n",
              "      <td>$29.99</td>\n",
              "      <td>Ankle-length slacks in patterned stretch cotto...</td>\n",
              "    </tr>\n",
              "    <tr>\n",
              "      <th>2</th>\n",
              "      <td>Short Chiffon Dress</td>\n",
              "      <td>$49.99</td>\n",
              "      <td>Short V-neck dress in plumeti chiffon. Gathers...</td>\n",
              "    </tr>\n",
              "    <tr>\n",
              "      <th>3</th>\n",
              "      <td>Off-the-shoulder Dress</td>\n",
              "      <td>$59.99</td>\n",
              "      <td>Short, fitted off-the-shoulder dress in stretc...</td>\n",
              "    </tr>\n",
              "    <tr>\n",
              "      <th>4</th>\n",
              "      <td>V-neck Top</td>\n",
              "      <td>$24.99</td>\n",
              "      <td>Top in woven fabric with V-neck front and back...</td>\n",
              "    </tr>\n",
              "    <tr>\n",
              "      <th>...</th>\n",
              "      <td>...</td>\n",
              "      <td>...</td>\n",
              "      <td>...</td>\n",
              "    </tr>\n",
              "    <tr>\n",
              "      <th>65</th>\n",
              "      <td>Short Chiffon Dress</td>\n",
              "      <td>$49.99</td>\n",
              "      <td>Short V-neck dress in plumeti chiffon. Gathers...</td>\n",
              "    </tr>\n",
              "    <tr>\n",
              "      <th>66</th>\n",
              "      <td>V-neck Top</td>\n",
              "      <td>$24.99</td>\n",
              "      <td>Top in woven fabric with V-neck front and back...</td>\n",
              "    </tr>\n",
              "    <tr>\n",
              "      <th>67</th>\n",
              "      <td>V-neck Top</td>\n",
              "      <td>$24.99</td>\n",
              "      <td>Top in woven fabric with V-neck front and back...</td>\n",
              "    </tr>\n",
              "    <tr>\n",
              "      <th>68</th>\n",
              "      <td>Short Lace Dress</td>\n",
              "      <td>$59.99</td>\n",
              "      <td>Short, straight-cut dress in lace. Opening at ...</td>\n",
              "    </tr>\n",
              "    <tr>\n",
              "      <th>69</th>\n",
              "      <td>Fitted Dress</td>\n",
              "      <td>$34.99</td>\n",
              "      <td>Fitted dress in thick jersey with a V-neck, lo...</td>\n",
              "    </tr>\n",
              "  </tbody>\n",
              "</table>\n",
              "<p>70 rows × 3 columns</p>\n",
              "</div>\n",
              "    <div class=\"colab-df-buttons\">\n",
              "\n",
              "  <div class=\"colab-df-container\">\n",
              "    <button class=\"colab-df-convert\" onclick=\"convertToInteractive('df-b03b30f4-a21a-4e5c-9291-cc85646f4565')\"\n",
              "            title=\"Convert this dataframe to an interactive table.\"\n",
              "            style=\"display:none;\">\n",
              "\n",
              "  <svg xmlns=\"http://www.w3.org/2000/svg\" height=\"24px\" viewBox=\"0 -960 960 960\">\n",
              "    <path d=\"M120-120v-720h720v720H120Zm60-500h600v-160H180v160Zm220 220h160v-160H400v160Zm0 220h160v-160H400v160ZM180-400h160v-160H180v160Zm440 0h160v-160H620v160ZM180-180h160v-160H180v160Zm440 0h160v-160H620v160Z\"/>\n",
              "  </svg>\n",
              "    </button>\n",
              "\n",
              "  <style>\n",
              "    .colab-df-container {\n",
              "      display:flex;\n",
              "      gap: 12px;\n",
              "    }\n",
              "\n",
              "    .colab-df-convert {\n",
              "      background-color: #E8F0FE;\n",
              "      border: none;\n",
              "      border-radius: 50%;\n",
              "      cursor: pointer;\n",
              "      display: none;\n",
              "      fill: #1967D2;\n",
              "      height: 32px;\n",
              "      padding: 0 0 0 0;\n",
              "      width: 32px;\n",
              "    }\n",
              "\n",
              "    .colab-df-convert:hover {\n",
              "      background-color: #E2EBFA;\n",
              "      box-shadow: 0px 1px 2px rgba(60, 64, 67, 0.3), 0px 1px 3px 1px rgba(60, 64, 67, 0.15);\n",
              "      fill: #174EA6;\n",
              "    }\n",
              "\n",
              "    .colab-df-buttons div {\n",
              "      margin-bottom: 4px;\n",
              "    }\n",
              "\n",
              "    [theme=dark] .colab-df-convert {\n",
              "      background-color: #3B4455;\n",
              "      fill: #D2E3FC;\n",
              "    }\n",
              "\n",
              "    [theme=dark] .colab-df-convert:hover {\n",
              "      background-color: #434B5C;\n",
              "      box-shadow: 0px 1px 3px 1px rgba(0, 0, 0, 0.15);\n",
              "      filter: drop-shadow(0px 1px 2px rgba(0, 0, 0, 0.3));\n",
              "      fill: #FFFFFF;\n",
              "    }\n",
              "  </style>\n",
              "\n",
              "    <script>\n",
              "      const buttonEl =\n",
              "        document.querySelector('#df-b03b30f4-a21a-4e5c-9291-cc85646f4565 button.colab-df-convert');\n",
              "      buttonEl.style.display =\n",
              "        google.colab.kernel.accessAllowed ? 'block' : 'none';\n",
              "\n",
              "      async function convertToInteractive(key) {\n",
              "        const element = document.querySelector('#df-b03b30f4-a21a-4e5c-9291-cc85646f4565');\n",
              "        const dataTable =\n",
              "          await google.colab.kernel.invokeFunction('convertToInteractive',\n",
              "                                                    [key], {});\n",
              "        if (!dataTable) return;\n",
              "\n",
              "        const docLinkHtml = 'Like what you see? Visit the ' +\n",
              "          '<a target=\"_blank\" href=https://colab.research.google.com/notebooks/data_table.ipynb>data table notebook</a>'\n",
              "          + ' to learn more about interactive tables.';\n",
              "        element.innerHTML = '';\n",
              "        dataTable['output_type'] = 'display_data';\n",
              "        await google.colab.output.renderOutput(dataTable, element);\n",
              "        const docLink = document.createElement('div');\n",
              "        docLink.innerHTML = docLinkHtml;\n",
              "        element.appendChild(docLink);\n",
              "      }\n",
              "    </script>\n",
              "  </div>\n",
              "\n",
              "\n",
              "<div id=\"df-6cfa19ea-02c0-466b-b6ec-133e0f4f27cb\">\n",
              "  <button class=\"colab-df-quickchart\" onclick=\"quickchart('df-6cfa19ea-02c0-466b-b6ec-133e0f4f27cb')\"\n",
              "            title=\"Suggest charts\"\n",
              "            style=\"display:none;\">\n",
              "\n",
              "<svg xmlns=\"http://www.w3.org/2000/svg\" height=\"24px\"viewBox=\"0 0 24 24\"\n",
              "     width=\"24px\">\n",
              "    <g>\n",
              "        <path d=\"M19 3H5c-1.1 0-2 .9-2 2v14c0 1.1.9 2 2 2h14c1.1 0 2-.9 2-2V5c0-1.1-.9-2-2-2zM9 17H7v-7h2v7zm4 0h-2V7h2v10zm4 0h-2v-4h2v4z\"/>\n",
              "    </g>\n",
              "</svg>\n",
              "  </button>\n",
              "\n",
              "<style>\n",
              "  .colab-df-quickchart {\n",
              "      --bg-color: #E8F0FE;\n",
              "      --fill-color: #1967D2;\n",
              "      --hover-bg-color: #E2EBFA;\n",
              "      --hover-fill-color: #174EA6;\n",
              "      --disabled-fill-color: #AAA;\n",
              "      --disabled-bg-color: #DDD;\n",
              "  }\n",
              "\n",
              "  [theme=dark] .colab-df-quickchart {\n",
              "      --bg-color: #3B4455;\n",
              "      --fill-color: #D2E3FC;\n",
              "      --hover-bg-color: #434B5C;\n",
              "      --hover-fill-color: #FFFFFF;\n",
              "      --disabled-bg-color: #3B4455;\n",
              "      --disabled-fill-color: #666;\n",
              "  }\n",
              "\n",
              "  .colab-df-quickchart {\n",
              "    background-color: var(--bg-color);\n",
              "    border: none;\n",
              "    border-radius: 50%;\n",
              "    cursor: pointer;\n",
              "    display: none;\n",
              "    fill: var(--fill-color);\n",
              "    height: 32px;\n",
              "    padding: 0;\n",
              "    width: 32px;\n",
              "  }\n",
              "\n",
              "  .colab-df-quickchart:hover {\n",
              "    background-color: var(--hover-bg-color);\n",
              "    box-shadow: 0 1px 2px rgba(60, 64, 67, 0.3), 0 1px 3px 1px rgba(60, 64, 67, 0.15);\n",
              "    fill: var(--button-hover-fill-color);\n",
              "  }\n",
              "\n",
              "  .colab-df-quickchart-complete:disabled,\n",
              "  .colab-df-quickchart-complete:disabled:hover {\n",
              "    background-color: var(--disabled-bg-color);\n",
              "    fill: var(--disabled-fill-color);\n",
              "    box-shadow: none;\n",
              "  }\n",
              "\n",
              "  .colab-df-spinner {\n",
              "    border: 2px solid var(--fill-color);\n",
              "    border-color: transparent;\n",
              "    border-bottom-color: var(--fill-color);\n",
              "    animation:\n",
              "      spin 1s steps(1) infinite;\n",
              "  }\n",
              "\n",
              "  @keyframes spin {\n",
              "    0% {\n",
              "      border-color: transparent;\n",
              "      border-bottom-color: var(--fill-color);\n",
              "      border-left-color: var(--fill-color);\n",
              "    }\n",
              "    20% {\n",
              "      border-color: transparent;\n",
              "      border-left-color: var(--fill-color);\n",
              "      border-top-color: var(--fill-color);\n",
              "    }\n",
              "    30% {\n",
              "      border-color: transparent;\n",
              "      border-left-color: var(--fill-color);\n",
              "      border-top-color: var(--fill-color);\n",
              "      border-right-color: var(--fill-color);\n",
              "    }\n",
              "    40% {\n",
              "      border-color: transparent;\n",
              "      border-right-color: var(--fill-color);\n",
              "      border-top-color: var(--fill-color);\n",
              "    }\n",
              "    60% {\n",
              "      border-color: transparent;\n",
              "      border-right-color: var(--fill-color);\n",
              "    }\n",
              "    80% {\n",
              "      border-color: transparent;\n",
              "      border-right-color: var(--fill-color);\n",
              "      border-bottom-color: var(--fill-color);\n",
              "    }\n",
              "    90% {\n",
              "      border-color: transparent;\n",
              "      border-bottom-color: var(--fill-color);\n",
              "    }\n",
              "  }\n",
              "</style>\n",
              "\n",
              "  <script>\n",
              "    async function quickchart(key) {\n",
              "      const quickchartButtonEl =\n",
              "        document.querySelector('#' + key + ' button');\n",
              "      quickchartButtonEl.disabled = true;  // To prevent multiple clicks.\n",
              "      quickchartButtonEl.classList.add('colab-df-spinner');\n",
              "      try {\n",
              "        const charts = await google.colab.kernel.invokeFunction(\n",
              "            'suggestCharts', [key], {});\n",
              "      } catch (error) {\n",
              "        console.error('Error during call to suggestCharts:', error);\n",
              "      }\n",
              "      quickchartButtonEl.classList.remove('colab-df-spinner');\n",
              "      quickchartButtonEl.classList.add('colab-df-quickchart-complete');\n",
              "    }\n",
              "    (() => {\n",
              "      let quickchartButtonEl =\n",
              "        document.querySelector('#df-6cfa19ea-02c0-466b-b6ec-133e0f4f27cb button');\n",
              "      quickchartButtonEl.style.display =\n",
              "        google.colab.kernel.accessAllowed ? 'block' : 'none';\n",
              "    })();\n",
              "  </script>\n",
              "</div>\n",
              "    </div>\n",
              "  </div>\n"
            ]
          },
          "metadata": {},
          "execution_count": 26
        }
      ]
    },
    {
      "cell_type": "code",
      "source": [
        "df.to_excel('df.xlsx', startrow=0, startcol=0, index=False)"
      ],
      "metadata": {
        "id": "suNtA6Wqhh70"
      },
      "execution_count": null,
      "outputs": []
    },
    {
      "cell_type": "markdown",
      "source": [
        "### Библиотека GOOGLE-COLAB-SELENIUM\n"
      ],
      "metadata": {
        "id": "FRAHfBw3GvDF"
      }
    },
    {
      "cell_type": "code",
      "source": [
        "import google_colab_selenium as gs\n",
        "from bs4 import BeautifulSoup\n",
        "from selenium.webdriver.chrome.options import Options\n",
        "from selenium.webdriver.common.by import By\n",
        "import time\n",
        "\n",
        "driver = gs.UndetectedChrome()\n",
        "\n",
        "driver.get('https://parsinger.ru/selenium/2/2.html')\n",
        "time.sleep(5)\n",
        "#BeautifulSoup(driver.page_source, 'lxml')\n",
        "driver.find_element(By.LINK_TEXT, '16243162441624').click()\n",
        "print(driver.find_element(By.ID, 'result').text)\n",
        "driver.quit()"
      ],
      "metadata": {
        "id": "zwExClMUxFGA"
      },
      "execution_count": null,
      "outputs": []
    },
    {
      "cell_type": "code",
      "source": [
        "driver.get('https://parsinger.ru/selenium/3/3.html')\n",
        "time.sleep(5)\n",
        "for elem in driver.find_elements(By.CLASS_NAME, 'text'):\n",
        "    elem.find_elements("
      ],
      "metadata": {
        "id": "Q4fqtPRQxFK_"
      },
      "execution_count": null,
      "outputs": []
    },
    {
      "cell_type": "code",
      "source": [],
      "metadata": {
        "id": "wUBIqYOsxFOW"
      },
      "execution_count": null,
      "outputs": []
    }
  ]
}